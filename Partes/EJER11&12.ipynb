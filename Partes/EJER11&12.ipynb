{
 "cells": [
  {
   "cell_type": "markdown",
   "id": "b4aefce7-43e6-4b34-aa6c-4e6cad68d799",
   "metadata": {},
   "source": [
    "# EJERCICIOS DEL LIBRO DE PROBABILIDAD Y ESTADÍSTICA (PERMUTACIONES)"
   ]
  },
  {
   "cell_type": "code",
   "execution_count": 3,
   "id": "b38d9081-552d-4d0b-8af7-8954c38f22c1",
   "metadata": {},
   "outputs": [],
   "source": [
    "# EJERCICIO 11"
   ]
  },
  {
   "cell_type": "code",
   "execution_count": 4,
   "id": "ad6032d5-b607-4d8d-93cf-556c8ab34741",
   "metadata": {},
   "outputs": [
    {
     "name": "stdout",
     "output_type": "stream",
     "text": [
      "a) Total de placas posibles: 13824000\n"
     ]
    }
   ],
   "source": [
    "# Inciso a)\n",
    "\n",
    "# a) ¿Cuántas placas diferentes son posibles?\n",
    "# Se calcula el número de placas\n",
    "# Tenemos 24 letras (excluyendo I, O, Q, y Ñ) y 1,000 numbers (de 000 a 999).\n",
    "# Se multiplican las probabilidades de números y letras de obtener el total.\n",
    "\n",
    "total_letras = 24 ** 3\n",
    "total_numeros = 1000\n",
    "total_placas = total_letras * total_numeros\n",
    "print(f\"a) Total de placas posibles: {total_placas}\")"
   ]
  },
  {
   "cell_type": "code",
   "execution_count": 5,
   "id": "1f5c53fb-346a-473e-8150-086070501b42",
   "metadata": {},
   "outputs": [
    {
     "name": "stdout",
     "output_type": "stream",
     "text": [
      "b) Placas que terminan en vocal: 69120\n"
     ]
    }
   ],
   "source": [
    "# Inciso b)\n",
    "\n",
    "# b) ¿Cuántas placas diferentes terminan en vocal?\n",
    "# Para terminar en vocal, la última letra debe ser A, E, I, o U.\n",
    "# Se multiplican las probabilidades para las letras por el número de vocales.\n",
    "vocales = 5\n",
    "placas_terminantes_en_vocal = total_letras * vocales\n",
    "print(f\"b) Placas que terminan en vocal: {placas_terminantes_en_vocal}\")"
   ]
  },
  {
   "cell_type": "code",
   "execution_count": 6,
   "id": "2239cb1a-e9d0-4756-943e-f11309336c66",
   "metadata": {},
   "outputs": [
    {
     "name": "stdout",
     "output_type": "stream",
     "text": [
      "c) Probabilidad de placa impar: 0.005\n"
     ]
    }
   ],
   "source": [
    "# Inciso c)\n",
    "\n",
    "# c) ¿Cuál es la probabilidad de que una placa, elegida al azar, sea impar?\n",
    "# Para ser impar, el último dígito del número debe ser impar (1, 3, 5, 7, o 9).\n",
    "# Hay 5 opciones para el último dígito\n",
    "numeros_impares = 5\n",
    "probabilidad_placa_impar = numeros_impares / total_numeros\n",
    "print(f\"c) Probabilidad de placa impar: {probabilidad_placa_impar:.3f}\")"
   ]
  },
  {
   "cell_type": "code",
   "execution_count": 1,
   "id": "cec67679-66e0-454c-a8f6-4406e10d35e7",
   "metadata": {},
   "outputs": [],
   "source": [
    "# EJERCICIO 12"
   ]
  },
  {
   "cell_type": "code",
   "execution_count": 7,
   "id": "33e3ada4-eec8-4d61-a7a6-d84129305d39",
   "metadata": {},
   "outputs": [
    {
     "name": "stdout",
     "output_type": "stream",
     "text": [
      "Total de formas posibles de pedir una hamburguesa: 511\n"
     ]
    }
   ],
   "source": [
    "import math\n",
    "\n",
    "def calcular_combinaciones(n):\n",
    "    total_combinaciones = 0\n",
    "    for r in range(1, n + 1):\n",
    "        total_combinaciones += math.comb(n, r)\n",
    "    return total_combinaciones\n",
    "\n",
    "ingredientes = 9\n",
    "total_formas = calcular_combinaciones(ingredientes)\n",
    "\n",
    "print(f\"Total de formas posibles de pedir una hamburguesa: {total_formas}\")"
   ]
  },
  {
   "cell_type": "code",
   "execution_count": null,
   "id": "7a11652a-69e6-42a2-ba56-09bf38ac8e65",
   "metadata": {},
   "outputs": [],
   "source": []
  }
 ],
 "metadata": {
  "kernelspec": {
   "display_name": "Python 3 (ipykernel)",
   "language": "python",
   "name": "python3"
  },
  "language_info": {
   "codemirror_mode": {
    "name": "ipython",
    "version": 3
   },
   "file_extension": ".py",
   "mimetype": "text/x-python",
   "name": "python",
   "nbconvert_exporter": "python",
   "pygments_lexer": "ipython3",
   "version": "3.12.4"
  }
 },
 "nbformat": 4,
 "nbformat_minor": 5
}
