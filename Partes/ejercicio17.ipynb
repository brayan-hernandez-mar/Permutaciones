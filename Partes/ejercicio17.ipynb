{
 "cells": [
  {
   "cell_type": "markdown",
   "id": "2b15004a-f0f3-4648-ba8d-0feb6f1468e4",
   "metadata": {},
   "source": [
    "17. Control de calidad. Se tiene una caja con 24 latas y se sabe que dos están contaminadas. Se van\n",
    "a seleccionar tres latas al azar para someterlas a una prueba de control de calidad, es decir, para\n",
    "medir los estándares de calidad de la empresa."
   ]
  },
  {
   "cell_type": "markdown",
   "id": "6f8cc4e2-c734-46bb-9a4a-d3f59065166a",
   "metadata": {},
   "source": [
    "a) ¿Cuántas combinaciones de tres latas pueden hacerse? \n",
    "b) ¿Cuál es la probabilidad de que se seleccione una lata contaminada para la prueba?\n",
    "c) ¿Cuál es la probabilidad de que se seleccione al menos una lata contaminada para la prueba?\n",
    "d) ¿Y la probabilidad de que no se elijan latas contaminadas para la prueba?"
   ]
  },
  {
   "cell_type": "code",
   "execution_count": 1,
   "id": "bfc927c6-ad96-4e14-a757-a7b87ce30733",
   "metadata": {},
   "outputs": [],
   "source": [
    "import itertools\n",
    "\n",
    "def permutaciones(digitos):\n",
    "  \n",
    "    n = len(digitos)\n",
    "    permutaciones = itertools.permutations(digitos, 3) \n",
    "    \n",
    "    contador_ = 0\n",
    "    for permutation in permutaciones:\n",
    "      contador_ += 1\n",
    "    return contador_"
   ]
  },
  {
   "cell_type": "code",
   "execution_count": 4,
   "id": "ffa01272-5493-46a4-af41-df3ccdcd0986",
   "metadata": {},
   "outputs": [
    {
     "name": "stdout",
     "output_type": "stream",
     "text": [
      "12144\n"
     ]
    }
   ],
   "source": [
    "digitos = [1, 2, 3, 4, 5, 6, 7, 8 ,9, 10, 11, 12, 13, 14, 15, 16, 17, 18, 19, 20, 21, 22, 23, 24]\n",
    "\n",
    "permutaciones = permutaciones(digitos)\n",
    "\n",
    "print(permutaciones)"
   ]
  },
  {
   "cell_type": "code",
   "execution_count": 72,
   "id": "721daab3-9adc-49a1-800d-852b99cc3063",
   "metadata": {},
   "outputs": [],
   "source": [
    "def permutacion_conta(permutaciones):\n",
    "    contador = 0\n",
    "    la = [1]\n",
    "    no_la = [n for n in digitos if n not in la]\n",
    "    permutaciones = list(itertools.permutations(no_la, 3))\n",
    "    for p in permutaciones:\n",
    "        contador += 1  \n",
    "    contador = contador / 12144\n",
    "    return contador"
   ]
  },
  {
   "cell_type": "code",
   "execution_count": 73,
   "id": "37ceea53-5f26-499b-ad53-c3853a3d5713",
   "metadata": {},
   "outputs": [
    {
     "name": "stdout",
     "output_type": "stream",
     "text": [
      "Total permutaciones: 0.875\n"
     ]
    }
   ],
   "source": [
    "digitos = [1, 2, 3, 4, 5, 6, 7, 8 ,9, 10, 11, 12, 13, 14, 15, 16, 17, 18, 19, 20, 21, 22, 23, 24]\n",
    "per = permutacion_conta(permutaciones)\n",
    "print(f\"Total permutaciones: {per}\")"
   ]
  },
  {
   "cell_type": "code",
   "execution_count": 76,
   "id": "180c7ba0-7d5c-401b-9b8e-171fa2f82065",
   "metadata": {},
   "outputs": [],
   "source": [
    "def permutacion_conta_ente(permutaciones):\n",
    "    contador = 0\n",
    "    la = [1,2,3]\n",
    "    no_la = [n for n in digitos if n not in la]\n",
    "    permutaciones = list(itertools.permutations(no_la, 3))\n",
    "    for p in permutaciones:\n",
    "        contador += 1\n",
    "   \n",
    "    return contador"
   ]
  },
  {
   "cell_type": "code",
   "execution_count": 77,
   "id": "fe98599a-d487-4e67-876e-b29c297fe74f",
   "metadata": {},
   "outputs": [
    {
     "name": "stdout",
     "output_type": "stream",
     "text": [
      "Total permutaciones: 7980\n"
     ]
    }
   ],
   "source": [
    "digitos = [1, 2, 3, 4, 5, 6, 7, 8 ,9, 10, 11, 12, 13, 14, 15, 16, 17, 18, 19, 20, 21, 22, 23, 24]\n",
    "per = permutacion_conta_ente(permutaciones)\n",
    "print(f\"Total permutaciones: {per}\")"
   ]
  },
  {
   "cell_type": "code",
   "execution_count": 80,
   "id": "9c0a1ce7-7b6c-44a2-b64b-72953fb0d4cc",
   "metadata": {},
   "outputs": [],
   "source": [
    "def permutacion_conta_no(permutacion_conta_ente, permutaciones):\n",
    "    conta = permutaciones - per \n",
    "    contar = conta / 12144\n",
    "    return contar"
   ]
  },
  {
   "cell_type": "code",
   "execution_count": 81,
   "id": "c0d11bc5-34d8-4c70-80b8-17e372e73c30",
   "metadata": {},
   "outputs": [
    {
     "name": "stdout",
     "output_type": "stream",
     "text": [
      "0.34288537549407117\n"
     ]
    }
   ],
   "source": [
    "proba = permutacion_conta_no(permutacion_conta_ente, permutaciones )\n",
    "print(proba)"
   ]
  }
 ],
 "metadata": {
  "kernelspec": {
   "display_name": "Python 3 (ipykernel)",
   "language": "python",
   "name": "python3"
  },
  "language_info": {
   "codemirror_mode": {
    "name": "ipython",
    "version": 3
   },
   "file_extension": ".py",
   "mimetype": "text/x-python",
   "name": "python",
   "nbconvert_exporter": "python",
   "pygments_lexer": "ipython3",
   "version": "3.9.8"
  }
 },
 "nbformat": 4,
 "nbformat_minor": 5
}
