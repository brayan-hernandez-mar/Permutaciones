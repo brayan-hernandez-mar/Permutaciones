{
 "cells": [
  {
   "cell_type": "markdown",
   "id": "9494befe-8c54-49c5-ba9e-22591413f835",
   "metadata": {},
   "source": [
    "# 14. Finanzas. \n",
    "Se va a formar un portafolio de inversión de cuatro instrumentos financieros a partir\n",
    "de cinco de renta fija y seis de renta variable. ¿De cuántas maneras podría formarse el portafolio\n",
    "si:  \n",
    "\n",
    "n = 11\n"
   ]
  },
  {
   "cell_type": "markdown",
   "id": "c65e015b-b624-4c37-ae19-e557cbc69318",
   "metadata": {},
   "source": [
    "# a) No hay restricciones?"
   ]
  },
  {
   "cell_type": "code",
   "execution_count": 2,
   "id": "99b69dd2-44a2-471c-a7c6-32eb16e19b86",
   "metadata": {},
   "outputs": [
    {
     "name": "stdout",
     "output_type": "stream",
     "text": [
      "Número de formas de formar el portafolio: 330\n"
     ]
    }
   ],
   "source": [
    "from math import factorial\n",
    "\n",
    "# Definir el número de instrumentos de renta fija y renta variable\n",
    "num_renta_fija = 5\n",
    "num_renta_variable = 6\n",
    "\n",
    "# Total de instrumentos disponibles\n",
    "total_instrumentos = num_renta_fija + num_renta_variable\n",
    "\n",
    "# Número de instrumentos que queremos seleccionar para el portafolio\n",
    "num_seleccion = 4\n",
    "\n",
    "# Calcular el número de combinaciones posibles\n",
    "combinaciones_posibles = factorial(total_instrumentos) // (factorial(num_seleccion) * factorial(total_instrumentos - num_seleccion))\n",
    "\n",
    "print(f\"Número de formas de formar el portafolio: {combinaciones_posibles}\")"
   ]
  },
  {
   "cell_type": "markdown",
   "id": "907873da-5bcf-408e-834f-eba1982ec7f4",
   "metadata": {},
   "source": [
    "# b) Debe haber dos instrumentos de renta fija y dos de renta variable?"
   ]
  },
  {
   "cell_type": "code",
   "execution_count": 3,
   "id": "67898860-ea89-4a0b-9e28-7321783adc20",
   "metadata": {},
   "outputs": [
    {
     "name": "stdout",
     "output_type": "stream",
     "text": [
      "Número de formas de formar el portafolio con 2 de renta fija y 2 de renta variable: 150\n"
     ]
    }
   ],
   "source": [
    "from math import comb\n",
    "\n",
    "# Definir el número de instrumentos de renta fija y renta variable\n",
    "num_renta_fija = 5\n",
    "num_renta_variable = 6\n",
    "\n",
    "# Número de instrumentos que queremos seleccionar para el portafolio\n",
    "num_seleccion_rf = 2\n",
    "num_seleccion_rv = 2\n",
    "\n",
    "# Calcular las combinaciones para los instrumentos de renta fija y renta variable\n",
    "combinaciones_rf = comb(num_renta_fija, num_seleccion_rf)\n",
    "combinaciones_rv = comb(num_renta_variable, num_seleccion_rv)\n",
    "\n",
    "# Calcular el número total de formas de formar el portafolio\n",
    "combinaciones_totales = combinaciones_rf * combinaciones_rv\n",
    "\n",
    "print(f\"Número de formas de formar el portafolio con 2 de renta fija y 2 de renta variable: {combinaciones_totales}\")\n"
   ]
  },
  {
   "cell_type": "markdown",
   "id": "0c30d20e-7e1a-464b-8994-7baefaf35396",
   "metadata": {},
   "source": [
    "# c) No debe haber ningún instrumento de renta fija?"
   ]
  },
  {
   "cell_type": "code",
   "execution_count": 4,
   "id": "552a5449-ec94-4538-9d1c-7fa29974dc70",
   "metadata": {},
   "outputs": [
    {
     "name": "stdout",
     "output_type": "stream",
     "text": [
      "Número de formas de formar el portafolio sin renta fija: 15\n"
     ]
    }
   ],
   "source": [
    "from math import comb\n",
    "\n",
    "# Definir el número de instrumentos de renta variable\n",
    "num_renta_variable = 6\n",
    "\n",
    "# Número de instrumentos que queremos seleccionar para el portafolio\n",
    "num_seleccion_rv = 4\n",
    "\n",
    "# Calcular las combinaciones para los instrumentos de renta variable\n",
    "combinaciones_rv = comb(num_renta_variable, num_seleccion_rv)\n",
    "\n",
    "print(f\"Número de formas de formar el portafolio sin renta fija: {combinaciones_rv}\")"
   ]
  },
  {
   "cell_type": "markdown",
   "id": "d0c063ef-41a3-47a3-982b-cc6fdfccf24f",
   "metadata": {},
   "source": [
    "# d) Debe haber tres instrumentos de renta fija?"
   ]
  },
  {
   "cell_type": "code",
   "execution_count": 7,
   "id": "6573bb3b-dc91-422e-b395-0b8e11bef25d",
   "metadata": {},
   "outputs": [
    {
     "name": "stdout",
     "output_type": "stream",
     "text": [
      "Número de formas de formar el portafolio con 3 de renta fija y 1 de renta variable: 60\n"
     ]
    }
   ],
   "source": [
    "from math import comb\n",
    "\n",
    "# Definir el número de instrumentos de renta fija y renta variable\n",
    "num_renta_fija = 5\n",
    "num_renta_variable = 6\n",
    "\n",
    "# Número de instrumentos que queremos seleccionar para el portafolio\n",
    "num_seleccion_rf = 3\n",
    "\n",
    "# Calcular las combinaciones para los instrumentos de renta fija\n",
    "combinaciones_rf = comb(num_renta_fija, num_seleccion_rf)\n",
    "\n",
    "# Por cada combinación de instrumentos de renta fija, hay 6 opciones de renta variable\n",
    "combinaciones_totales = combinaciones_rf * num_renta_variable\n",
    "\n",
    "print(f\"Número de formas de formar el portafolio con 3 de renta fija y 1 de renta variable: {combinaciones_totales}\")"
   ]
  },
  {
   "cell_type": "markdown",
   "id": "c8b8382e-fe5e-455b-93b4-6117ddd6e010",
   "metadata": {},
   "source": [
    "# e) Calcula las probabilidades para los incisos anteriores."
   ]
  },
  {
   "cell_type": "code",
   "execution_count": 9,
   "id": "9f0410b0-e4e2-4670-9df6-099823bd01a2",
   "metadata": {},
   "outputs": [
    {
     "name": "stdout",
     "output_type": "stream",
     "text": [
      "Probabilidad para el inciso (b): 45.45%\n",
      "Probabilidad para el inciso (c): 4.55%\n",
      "Probabilidad para el inciso (d): 18.18%\n"
     ]
    }
   ],
   "source": [
    "# Definir las combinaciones ya calculadas\n",
    "formas_favorables_b = 150\n",
    "formas_favorables_c = 15\n",
    "formas_favorables_d = 60\n",
    "formas_totales = 330\n",
    "\n",
    "# Calcular probabilidades\n",
    "probabilidad_b = (formas_favorables_b / formas_totales) * 100\n",
    "probabilidad_c = (formas_favorables_c / formas_totales) * 100\n",
    "probabilidad_d = (formas_favorables_d / formas_totales) * 100\n",
    "\n",
    "# Imprimir resultados\n",
    "print(f\"Probabilidad para el inciso (b): {probabilidad_b:.2f}%\")\n",
    "print(f\"Probabilidad para el inciso (c): {probabilidad_c:.2f}%\")\n",
    "print(f\"Probabilidad para el inciso (d): {probabilidad_d:.2f}%\")"
   ]
  }
 ],
 "metadata": {
  "kernelspec": {
   "display_name": "Python 3 (ipykernel)",
   "language": "python",
   "name": "python3"
  },
  "language_info": {
   "codemirror_mode": {
    "name": "ipython",
    "version": 3
   },
   "file_extension": ".py",
   "mimetype": "text/x-python",
   "name": "python",
   "nbconvert_exporter": "python",
   "pygments_lexer": "ipython3",
   "version": "3.12.4"
  }
 },
 "nbformat": 4,
 "nbformat_minor": 5
}
