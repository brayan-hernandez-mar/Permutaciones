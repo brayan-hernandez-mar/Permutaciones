{
 "cells": [
  {
   "cell_type": "markdown",
   "id": "08191762-b8da-494c-87e5-26e8073ead4b",
   "metadata": {},
   "source": [
    "9.Los número telefónicos en la ciudad de Cuernavaca,Morelos,constande\n",
    "siete dígitos.\n",
    "\n",
    "a) ¿Cuántas líneas telefónicas pueden crearse en esa ciudad?Recuerda que no pueden comenzar con cero.\n",
    "b) Si los tres primeros dígitos representan una zona de Cuernavaca,¿cuántas líneas telefónicas pertenecen a la zona 326?"
   ]
  },
  {
   "cell_type": "code",
   "execution_count": 1,
   "id": "cde5548f-505c-4cf3-b228-aceb86f3bba6",
   "metadata": {},
   "outputs": [
    {
     "name": "stdout",
     "output_type": "stream",
     "text": [
      "Total de líneas telefónicas posibles: 9000000\n",
      "Valor de liZona_326: 10000\n"
     ]
    }
   ],
   "source": [
    "Opcion_inicial = 9\n",
    "Digitos_opciones = 10\n",
    "Ultimos_cuatro_digitos = 10 ** 4\n",
    "\n",
    "TotalLineasTel = Opcion_inicial * (Digitos_opciones ** 6)\n",
    "liZona_326 = Ultimos_cuatro_digitos\n",
    "\n",
    "print(f\"Total de líneas telefónicas posibles: {TotalLineasTel}\")\n",
    "print(f\"Valor de liZona_326: {liZona_326}\")"
   ]
  },
  {
   "cell_type": "markdown",
   "id": "4de9efdc-2f6d-4ed3-9751-aca1fabda59a",
   "metadata": {},
   "source": [
    "10. Se tiene la palabra MURCIÉLAGO.Si no se permiten repeticiones al usar las letras que la forman, determina:\n",
    "a) El número de palabras que puedes crear.\n",
    "b) El número de palabras con cinco letras.\n",
    "c) La probabilidad de que una palabra de cinco letras termine en vocal."
   ]
  },
  {
   "cell_type": "code",
   "execution_count": 2,
   "id": "dd1c27c8-a61e-422d-9e91-6559f22a3e93",
   "metadata": {},
   "outputs": [
    {
     "name": "stdout",
     "output_type": "stream",
     "text": [
      "a) Número total de palabras posibles: 3628800\n",
      "b) Número de palabras con cinco letras: 30240\n",
      "c) Probabilidad de que una palabra de cinco letras termine en vocal: 0.004166666666666667\n"
     ]
    }
   ],
   "source": [
    "import math a\n",
    "from itertools import permutations\n",
    "\n",
    "# Palabra original\n",
    "palabra_original = \"MURCIÉLAGO\"\n",
    "\n",
    "# Número de letras diferentes\n",
    "num_letras = len(set(palabra_original))  # Usamos set() para contar letras únicas\n",
    "\n",
    "# Número de palabras que se pueden crear sin repetición\n",
    "num_palabras_sin_repeticion = math.factorial(num_letras)\n",
    "\n",
    "# Número de palabras con exactamente cinco letras\n",
    "letras = set(palabra_original)\n",
    "palabras_5_letras = set(permutations(letras, 5))\n",
    "num_palabras_5_letras = len(palabras_5_letras)\n",
    "\n",
    "# Probabilidad de que una palabra de cinco letras termine en vocal\n",
    "probabilidad = 15120 / 3628800\n",
    "\n",
    "# Imprimir los resultados\n",
    "print(f\"a) Número total de palabras posibles: {num_palabras_sin_repeticion}\")\n",
    "print(f\"b) Número de palabras con cinco letras: {num_palabras_5_letras}\")\n",
    "print(f\"c) Probabilidad de que una palabra de cinco letras termine en vocal: {probabilidad}\")"
   ]
  },
  {
   "cell_type": "code",
   "execution_count": null,
   "id": "ddf23888-1218-4ed9-8499-261acf80072d",
   "metadata": {},
   "outputs": [],
   "source": []
  }
 ],
 "metadata": {
  "kernelspec": {
   "display_name": "Python 3 (ipykernel)",
   "language": "python",
   "name": "python3"
  },
  "language_info": {
   "codemirror_mode": {
    "name": "ipython",
    "version": 3
   },
   "file_extension": ".py",
   "mimetype": "text/x-python",
   "name": "python",
   "nbconvert_exporter": "python",
   "pygments_lexer": "ipython3",
   "version": "3.12.1"
  }
 },
 "nbformat": 4,
 "nbformat_minor": 5
}
